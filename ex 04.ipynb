{
 "cells": [
  {
   "cell_type": "code",
   "execution_count": 5,
   "id": "2c9d4e69-be08-4162-a845-a8253875f1c6",
   "metadata": {},
   "outputs": [],
   "source": [
    "import cv2\n",
    "import matplotlib.pyplot as plt\n",
    "gray_image = cv2.imread(\"gray.jpg\")\n",
    "color_image = cv2.imread(\"sd.jpg\",-1)\n",
    "cv2.imshow(\"Gray Image\",gray_image)\n",
    "cv2.imshow(\"Colour Image\",color_image)\n",
    "cv2.waitKey(0)\n",
    "cv2.destroyAllWindows()"
   ]
  }
 ],
 "metadata": {
  "kernelspec": {
   "display_name": "Python 3 (ipykernel)",
   "language": "python",
   "name": "python3"
  },
  "language_info": {
   "codemirror_mode": {
    "name": "ipython",
    "version": 3
   },
   "file_extension": ".py",
   "mimetype": "text/x-python",
   "name": "python",
   "nbconvert_exporter": "python",
   "pygments_lexer": "ipython3",
   "version": "3.9.7"
  }
 },
 "nbformat": 4,
 "nbformat_minor": 5
}
