{
 "cells": [
  {
   "cell_type": "code",
   "execution_count": 2,
   "id": "ba790f2f-e905-47c7-81ac-6c1243ee1f86",
   "metadata": {},
   "outputs": [],
   "source": [
    "import cv2\n",
    "import matplotlib.pyplot as plt \n",
    "gi=cv2.imread(\"gray.jpg\",0)\n",
    "colorscale=cv2.imread(\"sd.jpg\")\n",
    "g=cv2.resize(gi,(500,400))\n",
    "equ=cv2.equalizeHist(gi)\n",
    "cv2.imshow(\"Grey Scale\",g)\n",
    "cv2.imshow(\"Equalization\",equ)\n",
    "cv2.waitKey(0)\n",
    "cv2.destroyAllWindows()"
   ]
  }
 ],
 "metadata": {
  "kernelspec": {
   "display_name": "Python 3 (ipykernel)",
   "language": "python",
   "name": "python3"
  },
  "language_info": {
   "codemirror_mode": {
    "name": "ipython",
    "version": 3
   },
   "file_extension": ".py",
   "mimetype": "text/x-python",
   "name": "python",
   "nbconvert_exporter": "python",
   "pygments_lexer": "ipython3",
   "version": "3.9.7"
  }
 },
 "nbformat": 4,
 "nbformat_minor": 5
}
